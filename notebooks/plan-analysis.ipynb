{
 "cells": [
  {
   "cell_type": "code",
   "execution_count": 1,
   "metadata": {},
   "outputs": [],
   "source": [
    "import pandas as pd\n",
    "import commonlib.prepdata as prepdata\n",
    "import commonlib.gencharts as gencharts\n",
    "import matplotlib.pyplot as plt\n",
    "import commonlib.config as cfg"
   ]
  },
  {
   "cell_type": "code",
   "execution_count": null,
   "id": "8655561d",
   "metadata": {},
   "outputs": [],
   "source": [
    "c = cfg.Config()\n",
    "print(c.TERRAFORM_LOG_PATH)\n",
    "parsed_records=prepdata.read_json_from_file(c.TERRAFORM_LOG_PATH)\n",
    "normalized_records=prepdata.normalize_records(parsed_records)\n",
    "df = pd.json_normalize(normalized_records)\n",
    "unique_types = df['type'].drop_duplicates().tolist()\n",
    "\n",
    "print(unique_types)\n",
    "df_refresh_start = df[df['type'] == 'refresh_start']\n",
    "df_refresh_start = df_refresh_start.rename(columns={'timestamp': 'refresh_start_timestamp'})\n",
    "\n",
    "df_refresh_complete = df[df['type'] == 'refresh_complete']\n",
    "df_refresh_complete = df_refresh_complete.rename(columns={'timestamp': 'refresh_complete_timestamp'})\n",
    "\n",
    "\n",
    "df_merged_refresh = pd.merge(df_refresh_start[['resource_id', \n",
    "'refresh_start_timestamp','resource','resource_type','resource_name']],\n",
    "                             df_refresh_complete[['resource_id', 'refresh_complete_timestamp']], \n",
    "                             on='resource_id')\n",
    "\n",
    "df_merged_refresh['refresh_start_datetime'] = pd.to_datetime(df_merged_refresh['refresh_start_timestamp'])\n",
    "df_merged_refresh['refresh_complete_datetime'] = pd.to_datetime(df_merged_refresh['refresh_complete_timestamp'])\n",
    "\n",
    "# calculate time difference in minutes\n",
    "df_merged_refresh['time_diff_minutes'] = (df_merged_refresh['refresh_complete_datetime'] - df_merged_refresh['refresh_start_datetime']).dt.total_seconds() / 60\n",
    "\n",
    "df_apply_start = df[df['type'] == 'apply_start']\n",
    "df_apply_start = df_refresh_complete.rename(columns={'timestamp': 'apply_start_timestamp'})\n",
    "\n",
    "df_apply_complete = df[df['type'] == 'apply_complete']\n",
    "df_apply_complete = df_refresh_complete.rename(columns={'timestamp': 'apply_complete_timestamp'})\n",
    "\n",
    "df_apply_progress = df[df['type'] == 'apply_progress']\n",
    "df_apply_resource_drift = df[df['type'] == 'resource_drift']\n",
    "df_apply_planned_change = df[df['type'] == 'planned_change']"
   ]
  },
  {
   "cell_type": "markdown",
   "id": "5f5f7a28",
   "metadata": {},
   "source": [
    "##\n",
    "Type Analysis"
   ]
  },
  {
   "cell_type": "code",
   "execution_count": null,
   "id": "1952f041",
   "metadata": {},
   "outputs": [],
   "source": [
    "gencharts.generate_plt_by_resource_type(df,\"refresh_start\")\n",
    "gencharts.generate_plt_by_resource_type(df,\"refresh_complete\")\n",
    "gencharts.generate_plt_by_resource_type(df,\"resource_drift\")\n",
    "gencharts.generate_plt_by_resource_type(df,\"planned_change\")\n",
    "\n",
    "gencharts.generate_plt_by_resource_type(df,\"apply_progress\")"
   ]
  },
  {
   "cell_type": "code",
   "execution_count": null,
   "id": "4c70fb88",
   "metadata": {},
   "outputs": [],
   "source": [
    "df_merged_refresh[['resource', 'refresh_start_timestamp','refresh_complete_timestamp','time_diff_minutes']].copy().sort_values(by='time_diff_minutes', ascending=False).head(20)"
   ]
  },
  {
   "cell_type": "code",
   "execution_count": null,
   "id": "7f5bf510",
   "metadata": {},
   "outputs": [],
   "source": []
  }
 ],
 "metadata": {
  "kernelspec": {
   "display_name": "base",
   "language": "python",
   "name": "python3"
  },
  "language_info": {
   "codemirror_mode": {
    "name": "ipython",
    "version": 3
   },
   "file_extension": ".py",
   "mimetype": "text/x-python",
   "name": "python",
   "nbconvert_exporter": "python",
   "pygments_lexer": "ipython3",
   "version": "3.9.12"
  }
 },
 "nbformat": 4,
 "nbformat_minor": 5
}
