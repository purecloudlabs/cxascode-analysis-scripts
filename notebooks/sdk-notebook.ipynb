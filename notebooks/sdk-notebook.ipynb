{
 "cells": [
  {
   "cell_type": "code",
   "execution_count": null,
   "metadata": {},
   "outputs": [],
   "source": [
    "import pandas as pd\n",
    "import commonlib.prep_sdk_data as prep_sdk_data\n",
    "import commonlib.gencharts as gencharts\n",
    "import matplotlib.pyplot as plt\n",
    "import commonlib.config as config"
   ]
  },
  {
   "cell_type": "code",
   "execution_count": null,
   "metadata": {},
   "outputs": [],
   "source": [
    "c = config.Config()\n",
    "print(f'Reading terraform data from: {c.TERRAFORM_LOG_PATH}')\n",
    "parsed_records=prep_sdk_data.read_json_from_file(c.TERRAFORM_LOG_PATH)\n",
    "normalized_records=prep_sdk_data.normalize_records(parsed_records)\n",
    "df = pd.json_normalize(normalized_records)\n",
    "\n",
    "df_sdk_request = df[df['debug_type'] == 'SDK DEBUG REQUEST']\n",
    "df_sdk_request= df_sdk_request.rename(columns={'timestamp': 'request_timestamp'})\n",
    "df_sdk_response = df[df['debug_type'] == 'SDK DEBUG RESPONSE']\n",
    "df_sdk_response = df_sdk_response.rename(columns={'timestamp': 'response_timestamp'})\n",
    "\n",
    "df_sdk_request_response = pd.merge(df_sdk_request[['transaction_id', \n",
    "'invocation_method','invocation_url','sanitized_url','request_timestamp']],\n",
    "                             df_sdk_response[['transaction_id','response_timestamp','invcation_status_code','invocation_retry_after']], \n",
    "                             on='transaction_id')\n",
    "\n",
    "df_sdk_request_response['method_url'] = df_sdk_request_response.apply(lambda row: f\"{row['invocation_method']} {row['sanitized_url']}\", axis=1)                             \n",
    "\n",
    "df_sdk_request_response.head(100)\n",
    "gencharts.generate_plt_by_method_url(df_sdk_request_response, df_sdk_request_response['method_url'])\n",
    "\n"
   ]
  },
  {
   "cell_type": "code",
   "execution_count": null,
   "metadata": {},
   "outputs": [],
   "source": []
  }
 ],
 "metadata": {
  "kernelspec": {
   "display_name": "base",
   "language": "python",
   "name": "python3"
  },
  "language_info": {
   "codemirror_mode": {
    "name": "ipython",
    "version": 3
   },
   "file_extension": ".py",
   "mimetype": "text/x-python",
   "name": "python",
   "nbconvert_exporter": "python",
   "pygments_lexer": "ipython3",
   "version": "3.9.12"
  }
 },
 "nbformat": 4,
 "nbformat_minor": 2
}
